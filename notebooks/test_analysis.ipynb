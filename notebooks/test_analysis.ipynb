{
 "cells": [
  {
   "cell_type": "code",
   "execution_count": 8,
   "metadata": {},
   "outputs": [
    {
     "name": "stdout",
     "output_type": "stream",
     "text": [
      "The autoreload extension is already loaded. To reload it, use:\n",
      "  %reload_ext autoreload\n",
      "3471920\n"
     ]
    }
   ],
   "source": [
    "%load_ext autoreload\n",
    "%autoreload 2\n",
    "\n",
    "import os\n",
    "import sys\n",
    "import json\n",
    "import pathlib\n",
    "import pickle\n",
    "import collections\n",
    "import itertools\n",
    "import numpy as np\n",
    "import pandas as pd\n",
    "import matplotlib.pyplot as plt\n",
    "import seaborn as sns\n",
    "import networkx as nx\n",
    "from Bio import SeqIO, Align\n",
    "from matplotlib import colormaps\n",
    "from scipy.stats import pearsonr\n",
    "from datetime import datetime\n",
    "from sklearn.decomposition import PCA\n",
    "#adding portek source directory to sys path before importing\n",
    "portek_path = \"../portek\"\n",
    "sys.path.insert(0,portek_path)\n",
    "import portek\n",
    "\n",
    "pd.options.mode.copy_on_write = True\n",
    "print(os.getpid())"
   ]
  },
  {
   "cell_type": "code",
   "execution_count": 9,
   "metadata": {},
   "outputs": [],
   "source": [
    "# PORT-EK parameters\n",
    "k = 11  # This is the length of k-mers\n",
    "c = 0.8  # This is the conservation thershold used in k-mer rarity filter\n",
    "m = 1  # This is the maximum number of mismatches allowed when re-examining rare k-mers\n",
    "min_RMSE = 0.5  # This is the RMSE threshold used to select enriched k-mers\n",
    "\n",
    "# Relative path to k-mer indices\n",
    "INPUT_PATH = \"../output/test\"\n",
    "\n",
    "# Data set specific definitions of k-mer type, column names, reference gene and protein mapping, and colors for plots.\n",
    "SAMPLE_GROUPS = [\"MA\",\"MD\",\"N\",\"O\",\"P\"]\n",
    "MODE = \"one_vs_rest\"\n",
    "GROUP_OF_INTEREST = \"N\"\n",
    "\n",
    "GENES = {\n",
    "    \"5' LTR\": (1, 634),\n",
    "    \"gag\": (790, 2292),\n",
    "    \"pol\": (2358, 5096),\n",
    "    \"vif\": (5041, 5619),\n",
    "    \"vpr\": (5559, 5795),\n",
    "    \"tat_1ex\": (5831, 6045),\n",
    "    \"tat_2ex\": (8379, 8653),\n",
    "    \"rev_1ex\": (5970, 6045),\n",
    "    \"rev_2ex\": (8379, 8653),\n",
    "    \"env\": (6225, 8795),\n",
    "    \"nef\": (8797, 9168),\n",
    "    \"3' LTR\": (9086, 9719),\n",
    "}\n",
    "\n",
    "REF_SEQ = SeqIO.read(\"../input/HXB2.fasta\", format=\"fasta\").seq\n"
   ]
  },
  {
   "cell_type": "code",
   "execution_count": 10,
   "metadata": {},
   "outputs": [],
   "source": [
    "FREQ_COLS = [f\"{group}_freq\" for group in SAMPLE_GROUPS]\n",
    "AVG_COLS = [f\"{group}_avg\" for group in SAMPLE_GROUPS]\n",
    "aligner = Align.PairwiseAligner(\n",
    "    scoring=\"megablast\",\n",
    "    mode=\"local\"\n",
    ")"
   ]
  },
  {
   "cell_type": "code",
   "execution_count": 11,
   "metadata": {},
   "outputs": [
    {
     "name": "stdout",
     "output_type": "stream",
     "text": [
      "\n",
      "Imported 505003 kmers and 1359 samples.\n"
     ]
    }
   ],
   "source": [
    "# First read all sample labels and k-mer sequences and construct an empty matrix. It requires significantly less memory than growing the matrix one-by-one.\n",
    "kmer_set = set()\n",
    "sample_list = []\n",
    "kmer_set_in_path = pathlib.Path(INPUT_PATH).glob(f\"*{k}mer_set.pkl\")\n",
    "sample_list_in_path = pathlib.Path(INPUT_PATH).glob(\"*sample_list.pkl\")\n",
    "\n",
    "for filename in kmer_set_in_path:\n",
    "    with open(filename, mode=\"rb\") as in_file:\n",
    "        partial_set = pickle.load(in_file)\n",
    "    kmer_set.update(partial_set)\n",
    "\n",
    "for filename in sample_list_in_path:\n",
    "    with open(filename, mode=\"rb\") as in_file:\n",
    "        partial_list = pickle.load(in_file)\n",
    "    group = filename.stem.split(\"_\")[0]\n",
    "    partial_list = [f\"{group}_{sample_name}\" for sample_name in partial_list]\n",
    "    sample_list.extend(partial_list)\n",
    "sample_list.sort()\n",
    "\n",
    "all_kmer_matrix = pd.DataFrame(\n",
    "    0, index=list(kmer_set), columns=sample_list, dtype=\"uint8\"\n",
    ")\n",
    "\n",
    "group_sample_idx = {f\"{group}\":[sample for sample in sample_list if sample.split(\"_\")[0] == f\"{group}\"] for group in SAMPLE_GROUPS}\n",
    "\n",
    "print(f\"\\nImported {len(kmer_set)} kmers and {len(sample_list)} samples.\")"
   ]
  },
  {
   "cell_type": "code",
   "execution_count": 12,
   "metadata": {},
   "outputs": [
    {
     "name": "stdout",
     "output_type": "stream",
     "text": [
      "1359 of 1359 indices done.\n",
      "9216 common k-mers remaining after filtering at a threshold of 0.8.\n"
     ]
    }
   ],
   "source": [
    "# Next, fill the table with k-mer counts.\n",
    "counter = 1\n",
    "tot_files = len(sample_list)\n",
    "in_path = pathlib.Path(f\"{INPUT_PATH}/{k}mer_indices\").glob(\"*_count.pkl\")\n",
    "\n",
    "for filename in in_path:\n",
    "    with open(filename, mode=\"rb\") as in_file:\n",
    "        temp_dict = pickle.load(in_file)\n",
    "    sample_name = \"_\".join(filename.stem.split(\"_\")[:-1])\n",
    "    count_dict = {f\"{sample_name}\": temp_dict.values()}\n",
    "    temp_df = pd.DataFrame(count_dict, index=temp_dict.keys(), dtype=\"uint8\")\n",
    "    all_kmer_matrix.update(temp_df)\n",
    "    print(\n",
    "        f\"{counter} of {tot_files} indices done.\",\n",
    "        end=\"\\r\",\n",
    "        flush=True,\n",
    "    )\n",
    "    counter += 1\n",
    "\n",
    "# Decode k-mer sequences\n",
    "all_kmer_matrix.index = all_kmer_matrix.index.map(lambda id: portek.decode_kmer(id,k))\n",
    "\n",
    "# Construct a temporary binary count matrix, i.e. one that shows if a k-mer is present in sequence, without regards to actual count.\n",
    "# Calculate k-mer frequencies and average counts in host groups.\n",
    "bin_kmer_matrix = all_kmer_matrix > 0\n",
    "for group in SAMPLE_GROUPS:\n",
    "    all_kmer_matrix[f\"{group}_freq\"] = bin_kmer_matrix.loc[:, group_sample_idx[group]].mean(axis=1)\n",
    "    all_kmer_matrix[f\"{group}_avg\"] = all_kmer_matrix.loc[:, group_sample_idx[group]].mean(axis=1)\n",
    "del bin_kmer_matrix\n",
    "\n",
    "# Remove polyA, as its presence and count is mostly dependant on sequencing quality not viral variant.\n",
    "if k*\"A\" in all_kmer_matrix.index:\n",
    "    all_kmer_matrix = all_kmer_matrix.drop(k*\"A\")\n",
    "\n",
    "# Apply rarity filter.\n",
    "common_kmer_matrix = portek.filter_kmers(\n",
    "    all_kmer_matrix, freq_cols=FREQ_COLS, cons_thr=c\n",
    ")\n",
    "\n",
    "print(\n",
    "    f\"\\n{len(common_kmer_matrix)} common k-mers remaining after filtering at a threshold of {c}.\"\n",
    ")"
   ]
  },
  {
   "cell_type": "markdown",
   "metadata": {},
   "source": [
    "All_vs_All vs One_vs_Rest"
   ]
  },
  {
   "cell_type": "code",
   "execution_count": 13,
   "metadata": {},
   "outputs": [
    {
     "name": "stdout",
     "output_type": "stream",
     "text": [
      "['MA', 'MD', 'N', 'O', 'P']\n",
      "['MA', 'MD', 'O', 'P']\n"
     ]
    }
   ],
   "source": [
    "if MODE == \"all_vs_all\":\n",
    "    common_kmer_matrix[\"seq\"] = common_kmer_matrix.index\n",
    "    ERR_COLS = []\n",
    "    P_COLS = []\n",
    "    for j in range(1, len(SAMPLE_GROUPS)):\n",
    "        for i in range(j):\n",
    "            err_name = f\"{SAMPLE_GROUPS[i]}-{SAMPLE_GROUPS[j]}_err\"\n",
    "            p_name = f\"{SAMPLE_GROUPS[i]}-{SAMPLE_GROUPS[j]}_p-value\"\n",
    "            ERR_COLS.append(err_name)\n",
    "            P_COLS.append(p_name)\n",
    "            common_kmer_matrix[err_name] = (\n",
    "                common_kmer_matrix[f\"{SAMPLE_GROUPS[i]}_avg\"]\n",
    "                - common_kmer_matrix[f\"{SAMPLE_GROUPS[j]}_avg\"]\n",
    "            )\n",
    "            common_kmer_matrix[p_name] = common_kmer_matrix[\"seq\"].apply(\n",
    "                portek.calc_kmer_pvalue,\n",
    "                args=(\n",
    "                    group_sample_idx[SAMPLE_GROUPS[i]],\n",
    "                    group_sample_idx[SAMPLE_GROUPS[j]],\n",
    "                    common_kmer_matrix,\n",
    "                ),\n",
    "            )\n",
    "            common_kmer_matrix[f\"-log10_{p_name}\"] = -np.log10(common_kmer_matrix[p_name])\n",
    "    common_kmer_matrix[\"RMSE\"] = np.sqrt(((common_kmer_matrix[ERR_COLS]) ** 2).mean(axis=1))\n",
    "    common_kmer_matrix = common_kmer_matrix.sort_values(\"RMSE\", ascending=False)\n",
    "    common_kmer_matrix = common_kmer_matrix.drop(\"seq\", axis=1)\n",
    "    common_kmer_matrix[\"group\"] = common_kmer_matrix.apply(\n",
    "        portek.assign_kmer_group, p_cols = P_COLS, avg_cols = AVG_COLS,axis=1\n",
    "    )\n",
    "    common_kmer_matrix[\"exclusivity\"] = common_kmer_matrix.apply(\n",
    "        portek.check_exclusivity, avg_cols = AVG_COLS, axis=1\n",
    "    )\n",
    "    common_kmer_stat_matrix = common_kmer_matrix.drop(sample_list, axis=1)\n",
    "else:\n",
    "    common_kmer_matrix[\"seq\"] = common_kmer_matrix.index\n",
    "    ERR_COLS = []\n",
    "    P_COLS = []\n",
    "    control_groups = SAMPLE_GROUPS.copy()\n",
    "    control_groups.remove(GROUP_OF_INTEREST)\n",
    "    for j in range(1, len(control_groups)):\n",
    "        err_name = f\"{GROUP_OF_INTEREST}-{control_groups[j]}_err\"\n",
    "        p_name = f\"{GROUP_OF_INTEREST}-{control_groups[j]}_p-value\"\n",
    "        ERR_COLS.append(err_name)\n",
    "        P_COLS.append(p_name)\n",
    "        common_kmer_matrix[err_name] = (\n",
    "            common_kmer_matrix[f\"{GROUP_OF_INTEREST}_avg\"]\n",
    "            - common_kmer_matrix[f\"{control_groups[j]}_avg\"]\n",
    "        )\n",
    "        common_kmer_matrix[p_name] = common_kmer_matrix[\"seq\"].apply(\n",
    "            portek.calc_kmer_pvalue,\n",
    "            args=(\n",
    "                group_sample_idx[GROUP_OF_INTEREST],\n",
    "                group_sample_idx[control_groups[j]],\n",
    "                common_kmer_matrix,\n",
    "            ),\n",
    "        )\n",
    "        common_kmer_matrix[f\"-log10_{p_name}\"] = -np.log10(common_kmer_matrix[p_name])\n",
    "    common_kmer_matrix[\"RMSE\"] = np.sqrt(((common_kmer_matrix[ERR_COLS]) ** 2).mean(axis=1))\n",
    "    common_kmer_matrix = common_kmer_matrix.sort_values(\"RMSE\", ascending=False)\n",
    "    common_kmer_matrix = common_kmer_matrix.drop(\"seq\", axis=1)\n",
    "    common_kmer_matrix[\"group\"] = common_kmer_matrix.apply(\n",
    "        portek.assign_kmer_group, p_cols = P_COLS, avg_cols = AVG_COLS,axis=1\n",
    "    )\n",
    "    common_kmer_matrix[\"exclusivity\"] = common_kmer_matrix.apply(\n",
    "        portek.check_exclusivity, avg_cols = AVG_COLS, axis=1\n",
    "    )\n",
    "    common_kmer_stat_matrix = common_kmer_matrix.drop(sample_list, axis=1)"
   ]
  },
  {
   "cell_type": "code",
   "execution_count": 14,
   "metadata": {},
   "outputs": [
    {
     "data": {
      "text/plain": [
       "group\n",
       "P_enriched         3264\n",
       "N_enriched         2194\n",
       "MD_enriched        1237\n",
       "not significant    1123\n",
       "O_enriched          835\n",
       "MA_enriched         563\n",
       "Name: count, dtype: int64"
      ]
     },
     "execution_count": 14,
     "metadata": {},
     "output_type": "execute_result"
    }
   ],
   "source": [
    "common_kmer_stat_matrix\n",
    "common_kmer_stat_matrix[\"group\"].value_counts()"
   ]
  },
  {
   "cell_type": "code",
   "execution_count": 7,
   "metadata": {},
   "outputs": [
    {
     "data": {
      "text/plain": [
       "group\n",
       "P_enriched         2734\n",
       "not significant    2413\n",
       "N_enriched         2124\n",
       "MD_enriched         940\n",
       "O_enriched          667\n",
       "MA_enriched         338\n",
       "Name: count, dtype: int64"
      ]
     },
     "execution_count": 7,
     "metadata": {},
     "output_type": "execute_result"
    }
   ],
   "source": [
    "common_kmer_stat_matrix\n",
    "common_kmer_stat_matrix[\"group\"].value_counts()"
   ]
  }
 ],
 "metadata": {
  "kernelspec": {
   "display_name": "env",
   "language": "python",
   "name": "python3"
  },
  "language_info": {
   "codemirror_mode": {
    "name": "ipython",
    "version": 3
   },
   "file_extension": ".py",
   "mimetype": "text/x-python",
   "name": "python",
   "nbconvert_exporter": "python",
   "pygments_lexer": "ipython3",
   "version": "3.11.9"
  }
 },
 "nbformat": 4,
 "nbformat_minor": 2
}
