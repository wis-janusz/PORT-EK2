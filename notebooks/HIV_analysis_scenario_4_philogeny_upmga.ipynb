{
 "cells": [
  {
   "cell_type": "markdown",
   "metadata": {},
   "source": [
    "1. Import necessary libraries and PORT-EK source code:"
   ]
  },
  {
   "cell_type": "code",
   "execution_count": 1,
   "metadata": {},
   "outputs": [
    {
     "name": "stdout",
     "output_type": "stream",
     "text": [
      "2742461\n"
     ]
    }
   ],
   "source": [
    "%load_ext autoreload\n",
    "%autoreload 2\n",
    "\n",
    "import os\n",
    "import sys\n",
    "import pathlib\n",
    "import pickle\n",
    "import random\n",
    "import itertools\n",
    "import numpy as np\n",
    "import pandas as pd\n",
    "import matplotlib.pyplot as plt\n",
    "import seaborn as sns\n",
    "import networkx as nx\n",
    "from Bio import SeqIO, Align, Phylo\n",
    "from Bio.Phylo.TreeConstruction import DistanceTreeConstructor, DistanceMatrix\n",
    "from matplotlib import colormaps\n",
    "from scipy.spatial import distance\n",
    "from scipy.cluster import hierarchy\n",
    "from scipy.stats import pearsonr\n",
    "from datetime import datetime\n",
    "from sklearn.decomposition import PCA\n",
    "#adding portek source directory to sys path before importing\n",
    "portek_path = \"../portek\"\n",
    "sys.path.insert(0,portek_path)\n",
    "import portek\n",
    "\n",
    "pd.options.mode.copy_on_write = True\n",
    "print(os.getpid())\n"
   ]
  },
  {
   "cell_type": "markdown",
   "metadata": {},
   "source": [
    "2. Declare data set specific definitions and functions:"
   ]
  },
  {
   "cell_type": "code",
   "execution_count": 2,
   "metadata": {},
   "outputs": [],
   "source": [
    "# PORT-EK parameters\n",
    "k = 11  # This is the length of k-mers\n",
    "c = 0.19  # This is the conservation thershold used in k-mer rarity filter\n",
    "m = 1  # This is the maximum number of mismatches allowed when re-examining rare k-mers\n",
    "min_RMSE = 0.5  # This is the RMSE threshold used to select enriched k-mers\n",
    "\n",
    "# Relative path to k-mer indices\n",
    "INPUT_PATH = \"../output/HIV/scenario4\"\n",
    "\n",
    "# Data set specific definitions of k-mer type, column names, reference gene and protein mapping, and colors for plots.\n",
    "SAMPLE_GROUPS = [\"M\", \"nonM\"]\n",
    "SAMPLE_SUBTYPES = [\"MA\", \"MB\", \"MC\", \"MD\", \"Mrest\", \"N\", \"O\", \"P\"]\n",
    "\n",
    "FREQ_COLS = [f\"{group}_freq\" for group in SAMPLE_GROUPS]\n",
    "SUB_FREQ_COLS = [f\"{group}_freq\" for group in SAMPLE_SUBTYPES]\n",
    "\n",
    "AVG_COLS = [f\"{group}_avg\" for group in SAMPLE_GROUPS]\n",
    "SUB_AVG_COLS = [f\"{group}_avg\" for group in SAMPLE_SUBTYPES]\n",
    "\n",
    "VOLCANO_CMAP = {\n",
    "    \"not_significant\": (\"#DDDDDD\", 0.5),\n",
    "    \"M_enriched\": (\"#ffa401\", 1),\n",
    "    \"nonM_enriched\": (\"#005ff5\", 1),\n",
    "}\n",
    "\n",
    "HIV_GENES = {\n",
    "    \"5' LTR\": [(1, 634)],\n",
    "    \"gag\": [(789, 2289)],\n",
    "    \"pol\": [(2084, 5093)],\n",
    "    \"vif\": [(5040, 5616)],\n",
    "    \"vpr\": [(5558, 5846)],\n",
    "    \"tat\": [(5830, 6045), (8378, 8466)],\n",
    "    \"rev\": [(5969, 6045), (8378, 8650)],\n",
    "    \"vpu\": [(6061,6307)],\n",
    "    \"env\": [(6224, 8792)],\n",
    "    \"nef\": [(8796, 9414)],\n",
    "    \"3' LTR\": [(9086, 9719)],\n",
    "}\n",
    "\n",
    "ref_seq = SeqIO.read(\"../input/HXB2.fasta\", format=\"fasta\").seq\n",
    "aligner = Align.PairwiseAligner(\n",
    "    # match_score=5,\n",
    "    # mismatch_score=-4,\n",
    "    # open_gap_score=-10,\n",
    "    # extend_gap_score=-0.5,\n",
    "    scoring=\"megablast\",\n",
    "    mode=\"local\"\n",
    ")\n",
    "\n",
    "\n",
    "def assign_gene_from_interval(ref_pos: list, gene_dict: dict) -> str:\n",
    "    genes = []\n",
    "    for start, end in ref_pos:\n",
    "        for gene, gene_ranges in gene_dict.items():\n",
    "            for gene_range in gene_ranges:\n",
    "                if (\n",
    "                    len(\n",
    "                        [\n",
    "                            pos\n",
    "                            for pos in range(start, end + 1)\n",
    "                            if pos in list(range(gene_range[0], gene_range[1] + 1))\n",
    "                        ]\n",
    "                    )\n",
    "                    > 0\n",
    "                ):\n",
    "                    genes.append(gene)\n",
    "\n",
    "    return \", \".join(genes)\n",
    "\n",
    "def assign_gene_from_position(ref_pos: int, gene_dict: dict) -> str:\n",
    "    genes = []\n",
    "    for gene, gene_ranges in gene_dict.items():\n",
    "        for gene_range in gene_ranges:\n",
    "            if gene_range[0] < ref_pos < gene_range[1]:\n",
    "                genes.append(gene)\n",
    "    return \", \".join(genes)"
   ]
  },
  {
   "cell_type": "markdown",
   "metadata": {},
   "source": [
    "3. Load enriched k-mer matrix"
   ]
  },
  {
   "cell_type": "code",
   "execution_count": 3,
   "metadata": {},
   "outputs": [
    {
     "name": "stdout",
     "output_type": "stream",
     "text": [
      "\n",
      "Imported 1240578 kmers and 15295 samples.\n"
     ]
    }
   ],
   "source": [
    "kmer_set = set()\n",
    "sample_list = []\n",
    "kmer_set_in_path = pathlib.Path(INPUT_PATH).glob(f\"*{k}mer_set.pkl\")\n",
    "sample_list_in_path = pathlib.Path(INPUT_PATH).glob(\"*sample_list.pkl\")\n",
    "\n",
    "for filename in kmer_set_in_path:\n",
    "    with open(filename, mode=\"rb\") as in_file:\n",
    "        partial_set = pickle.load(in_file)\n",
    "    kmer_set.update(partial_set)\n",
    "\n",
    "for filename in sample_list_in_path:\n",
    "    with open(filename, mode=\"rb\") as in_file:\n",
    "        partial_list = pickle.load(in_file)\n",
    "    group = filename.stem.split(\"_\")[0]\n",
    "    partial_list = [f\"{group}_{sample_name}\" for sample_name in partial_list]\n",
    "    sample_list.extend(partial_list)\n",
    "sample_list.sort()\n",
    "\n",
    "subtype_sample_idx = {f\"{subtype}\": [sample for sample in sample_list if sample.split(\"_\")[0] == f\"{subtype}\"] for subtype in SAMPLE_SUBTYPES}\n",
    "group_sample_idx = {f\"{group}\":[] for group in SAMPLE_GROUPS}\n",
    "for sample in sample_list:\n",
    "    if \"M\" in sample.split(\"_\")[0]:\n",
    "        group_sample_idx[\"M\"].append(sample)\n",
    "    else:\n",
    "        group_sample_idx[\"nonM\"].append(sample)\n",
    "print(f\"\\nImported {len(kmer_set)} kmers and {len(sample_list)} samples.\")\n",
    "\n",
    "enriched_kmer_matrix = pd.read_csv(f\"../output/HIV/scenario4/enriched_{k}mer_count_matrix.csv\", index_col=0)"
   ]
  },
  {
   "cell_type": "code",
   "execution_count": 4,
   "metadata": {},
   "outputs": [
    {
     "data": {
      "image/png": "[encoded data removed]",
      "text/plain": [
       "<Figure size 640x480 with 1 Axes>"
      ]
     },
     "metadata": {},
     "output_type": "display_data"
    }
   ],
   "source": [
    "#Perform and plot PCA \n",
    "y_names = [name.split(\"_\")[0] for name in sample_list]\n",
    "\n",
    "pca = PCA(2)\n",
    "X_pca = pd.DataFrame(pca.fit_transform(enriched_kmer_matrix[sample_list].T), index=sample_list)\n",
    "fig, ax = plt.subplots()\n",
    "ax.set_title('PCA of M and nonM samples k-mer counts')\n",
    "ax.set_xlabel('Principal component 1')\n",
    "ax.set_ylabel('Principal component 2')\n",
    "sns.scatterplot(x=X_pca[0], y=X_pca[1], hue=y_names, s=20, linewidth = 0)\n",
    "\n",
    "#Uncomment the following line to save the plot as svg.\n",
    "plt.savefig(\"../output/HIV/scenario4/PCA.svg\", dpi = 600, format = \"svg\", bbox_inches='tight')"
   ]
  },
  {
   "cell_type": "markdown",
   "metadata": {},
   "source": [
    "Identify B outliers"
   ]
  },
  {
   "cell_type": "code",
   "execution_count": 5,
   "metadata": {},
   "outputs": [],
   "source": [
    "B_outliers = X_pca[X_pca[1] > 15].index.to_list()\n",
    "subtype_sample_idx[\"MB\"] = [sample for sample in subtype_sample_idx[\"MB\"] if sample not in B_outliers]\n",
    "subtype_sample_idx[\"MB_out\"] = B_outliers"
   ]
  },
  {
   "cell_type": "markdown",
   "metadata": {},
   "source": [
    "Subsample sample list"
   ]
  },
  {
   "cell_type": "code",
   "execution_count": 6,
   "metadata": {},
   "outputs": [],
   "source": [
    "k = 10\n",
    "subsampled_subtype_sample_idx = {}\n",
    "for subtype, sample_names in subtype_sample_idx.items():\n",
    "    if len(sample_names) <= k:\n",
    "        subsampled_subtype_sample_idx[subtype] = sample_names\n",
    "    else:\n",
    "        subsampled_subtype_sample_idx[subtype] = random.sample(sample_names, k=k)"
   ]
  },
  {
   "cell_type": "code",
   "execution_count": 7,
   "metadata": {},
   "outputs": [],
   "source": [
    "subsampled_sample_list = sum(subsampled_subtype_sample_idx.values(),[])\n",
    "counts_for_distances = enriched_kmer_matrix[subsampled_sample_list].T\n",
    "kmer_dist = distance.pdist(counts_for_distances)"
   ]
  },
  {
   "cell_type": "code",
   "execution_count": 8,
   "metadata": {},
   "outputs": [],
   "source": [
    "kmer_dist = distance.squareform(kmer_dist)"
   ]
  },
  {
   "cell_type": "code",
   "execution_count": 9,
   "metadata": {},
   "outputs": [
    {
     "name": "stdout",
     "output_type": "stream",
     "text": [
      "Row 84 out of 85 done.\r"
     ]
    }
   ],
   "source": [
    "def format_distance_matrix_for_biopyton(in_matrix: np.ndarray) -> list:\n",
    "    temp_matrix = in_matrix.tolist()\n",
    "    out_matrix = []\n",
    "    for i, row in enumerate(temp_matrix):\n",
    "        temp_row = row[:i+1]\n",
    "        out_matrix.append(temp_row)\n",
    "        print(f\"Row {i} out of {len(temp_matrix)} done.\", end=\"\\r\", flush=True)\n",
    "    return out_matrix\n",
    "\n",
    "biopython_dist = format_distance_matrix_for_biopyton(kmer_dist)\n"
   ]
  },
  {
   "cell_type": "code",
   "execution_count": 10,
   "metadata": {},
   "outputs": [
    {
     "data": {
      "text/plain": [
       "True"
      ]
     },
     "execution_count": 10,
     "metadata": {},
     "output_type": "execute_result"
    }
   ],
   "source": [
    "[len(row) for row in biopython_dist] == list(range(1,len(biopython_dist)+1))"
   ]
  },
  {
   "cell_type": "code",
   "execution_count": 11,
   "metadata": {},
   "outputs": [],
   "source": [
    "bipython_distance_matrix = DistanceMatrix(list(counts_for_distances.index), biopython_dist)"
   ]
  },
  {
   "cell_type": "code",
   "execution_count": 14,
   "metadata": {},
   "outputs": [],
   "source": [
    "tree_constructor = DistanceTreeConstructor()\n",
    "tree = tree_constructor.nj(bipython_distance_matrix)"
   ]
  },
  {
   "cell_type": "code",
   "execution_count": 15,
   "metadata": {},
   "outputs": [
    {
     "data": {
      "text/plain": [
       "1"
      ]
     },
     "execution_count": 15,
     "metadata": {},
     "output_type": "execute_result"
    }
   ],
   "source": [
    "tree.ladderize()\n",
    "Phylo.write(tree, \"../output/HIV/scenario4/subtype_phylo_tree.xml\", \"phyloxml\")"
   ]
  }
 ],
 "metadata": {
  "kernelspec": {
   "display_name": "env",
   "language": "python",
   "name": "python3"
  },
  "language_info": {
   "codemirror_mode": {
    "name": "ipython",
    "version": 3
   },
   "file_extension": ".py",
   "mimetype": "text/x-python",
   "name": "python",
   "nbconvert_exporter": "python",
   "pygments_lexer": "ipython3",
   "version": "3.11.10"
  }
 },
 "nbformat": 4,
 "nbformat_minor": 2
}
