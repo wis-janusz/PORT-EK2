{
 "cells": [
  {
   "cell_type": "markdown",
   "metadata": {},
   "source": [
    "This notebook descrbies the selection of optimal k-mer length for the \"bat\" data sets for use in PORT-EK pipeline analysis.\n",
    "To use it you will need the k-mer indices generated with PORTEKfind.py in the output/bat/[k]mer_indices directories, where [k] denotes the tested k-mer length value. \n",
    "To generate the indices as in the paper, you will need to run PORTEKfind.py on the appropriate data sets, previously downloaded in .fasta files, using the following commands from the main PORT-EK directory (the output directories must already exist):\n",
    " - python PORTEKfind.py input/bat/bat.fasta output/bat/[k]mer_indices/ --k [k] --group bat\n",
    " - python PORTEKfind.py input/bat/EPI_SET_240422qm.fasta output/bat/[k]mer_indices/ --k [k] --group hum\n",
    "\n",
    " substituting [k] for the tested k-mer lengths. To replicate the reuslts in the paper, you need to test k values of 5,7,9,11,15,19 and 25 for all sequences.  \n",
    "\n",
    "You can also run generate_deer_kmers.sh scrpit which will automatically run PORTEKfind for all the options above, this is recommended only if your machine have at least 14 free CPUs."
   ]
  },
  {
   "cell_type": "markdown",
   "metadata": {},
   "source": [
    "1. Import necessary libraries and PORT-EK source code:"
   ]
  },
  {
   "cell_type": "code",
   "execution_count": 1,
   "metadata": {},
   "outputs": [],
   "source": [
    "import sys\n",
    "import pickle\n",
    "import pathlib\n",
    "import numpy as np\n",
    "import pandas as pd\n",
    "import matplotlib.pyplot as plt\n",
    "import seaborn as sns\n",
    "from Bio import SeqIO\n",
    "#adding portek source directory to sys path before importing\n",
    "portek_path = \"../portek\"\n",
    "sys.path.insert(0,portek_path)\n",
    "import portek\n",
    "\n",
    "pd.options.mode.copy_on_write = True"
   ]
  },
  {
   "cell_type": "markdown",
   "metadata": {},
   "source": [
    "2. Declare data set specific definitions and functions, and a list of k-mer lengths to be tested."
   ]
  },
  {
   "cell_type": "code",
   "execution_count": 2,
   "metadata": {},
   "outputs": [],
   "source": [
    "# PORT-EK parameters\n",
    "c = 0.05  # This is the conservation thershold used in k-mer rarity filter, other parameters are not used for optimal k selection.\n",
    "LOW_MEM_MODE = False\n",
    "# List of k values to test\n",
    "k_list = [5,7,9,11,13]\n",
    "\n",
    "# Data set specific definitions and functions\n",
    "\n",
    "FREQ_COLS = [\"M_freq\", \"nonM_freq\"]\n",
    "AVG_COLS = [\"M_avg\", \"nonM_avg\"]\n",
    "IN_FASTAS = [\n",
    "    \"../input/HIV/prepped/M.fasta\",\n",
    "    \"../input/HIV/prepped/nonM.fasta\",\n",
    "]  # only used in low memory mode\n",
    "\n",
    "\n",
    "def decode_kmer(id: int) -> str:\n",
    "    decoding = {\"00\": \"A\", \"01\": \"C\", \"10\": \"G\", \"11\": \"T\"}\n",
    "    kmer_bin_string = bin(id)[2:].rjust(30, \"0\")\n",
    "    kmer_bin_string = [\n",
    "        kmer_bin_string[i : i + 2] for i in range(0, len(kmer_bin_string), 2)\n",
    "    ]\n",
    "    kmer_seq = \"\".join([decoding[bits] for bits in kmer_bin_string])\n",
    "\n",
    "    return kmer_seq"
   ]
  },
  {
   "cell_type": "markdown",
   "metadata": {},
   "source": [
    "3. Calculate k-mer specificity and efficiency for tested lengths. For definitions and discussion see [reference to our paper]"
   ]
  },
  {
   "cell_type": "code",
   "execution_count": 25,
   "metadata": {},
   "outputs": [
    {
     "name": "stdout",
     "output_type": "stream",
     "text": [
      "Calculating specificity and efficiency of 5-mers.\n",
      "Done importing sample names and 5-mers sequences.\n",
      "Done generating count matrix of all 5-mers.\n",
      "Done filerting out rare 5-mers.\n",
      "Found 1024 common and 0 rare 5 mers.\n",
      "Done calculating specificty (0.8657818908492865) and efficiency (1.0) of 5-mers.\n",
      "Calculating specificity and efficiency of 7-mers.\n",
      "Done importing sample names and 7-mers sequences.\n",
      "Done generating count matrix of all 7-mers.\n",
      "Done filerting out rare 7-mers.\n",
      "Found 13177 common and 3206 rare 7 mers.\n",
      "Done calculating specificty (3.1854197993567466) and efficiency (0.8043093450527986) of 7-mers.\n",
      "Calculating specificity and efficiency of 9-mers.\n",
      "Done importing sample names and 9-mers sequences.\n",
      "Done generating count matrix of all 9-mers.\n",
      "Done filerting out rare 9-mers.\n",
      "Found 51226 common and 178374 rare 9 mers.\n",
      "Done calculating specificty (6.09205409136575) and efficiency (0.22310975609756098) of 9-mers.\n",
      "Calculating specificity and efficiency of 11-mers.\n",
      "Done importing sample names and 11-mers sequences.\n",
      "Done generating count matrix of all 11-mers.\n",
      "Done filerting out rare 11-mers.\n",
      "Found 62296 common and 1178282 rare 11 mers.\n",
      "Done calculating specificty (7.361994246844519) and efficiency (0.050215302866889466) of 11-mers.\n",
      "Calculating specificity and efficiency of 13-mers.\n",
      "Done importing sample names and 13-mers sequences.\n"
     ]
    }
   ],
   "source": [
    "k_dict = {}\n",
    "for k in k_list:\n",
    "    print(f\"Calculating specificity and efficiency of {k}-mers.\")\n",
    "    INPUT_PATH = f\"../output/HIV/scenario1/\"\n",
    "\n",
    "    kmer_set = set()\n",
    "    sample_list = []\n",
    "    kmer_set_in_path = pathlib.Path(INPUT_PATH).glob(f\"*_{k}mer_set.pkl\")\n",
    "    sample_list_in_path = pathlib.Path(INPUT_PATH).glob(\"*sample_list.pkl\")\n",
    "\n",
    "    for filename in kmer_set_in_path:\n",
    "        with open(filename, mode=\"rb\") as in_file:\n",
    "            partial_set = pickle.load(in_file)\n",
    "        kmer_set.update(partial_set)\n",
    "\n",
    "    for filename in sample_list_in_path:\n",
    "        with open(filename, mode=\"rb\") as in_file:\n",
    "            partial_list = pickle.load(in_file)\n",
    "        group = filename.stem.split(\"_\")[0]\n",
    "        partial_list = [f\"{group}_{sample_name}\" for sample_name in partial_list]\n",
    "        sample_list.extend(partial_list)\n",
    "\n",
    "    all_kmer_matrix = pd.DataFrame(\n",
    "        0, index=list(kmer_set), columns=sample_list, dtype=\"uint8\"\n",
    "    )\n",
    "    M_sample_idx = [sample for sample in all_kmer_matrix.columns if sample[0] == \"M\"]\n",
    "    nonM_sample_idx = [sample for sample in all_kmer_matrix.columns if \"nonM\" in sample[0:4] == \"nonM\"]\n",
    "    print(f\"Done importing sample names and {k}-mers sequences.\")\n",
    "\n",
    "    in_path = pathlib.Path(f\"{INPUT_PATH}/{k}mer_indices\").glob(\"*_count.pkl\")\n",
    "\n",
    "    for filename in in_path:\n",
    "        with open(filename, mode=\"rb\") as in_file:\n",
    "            temp_dict = pickle.load(in_file)\n",
    "        sample_name = \"_\".join(filename.stem.split(\"_\")[:-1])\n",
    "        count_dict = {f\"{sample_name}\": temp_dict.values()}\n",
    "        temp_df = pd.DataFrame(count_dict, index=temp_dict.keys(), dtype=\"uint8\")\n",
    "        all_kmer_matrix.update(temp_df)\n",
    "\n",
    "    all_kmer_matrix.index = all_kmer_matrix.index.map(decode_kmer)\n",
    "\n",
    "    if LOW_MEM_MODE == True:\n",
    "        for idx, column in enumerate(FREQ_COLS):\n",
    "            seq_list = list(SeqIO.parse(IN_FASTAS[idx], format=\"fasta\"))\n",
    "            for kmer in all_kmer_matrix.index:\n",
    "                counter = 0\n",
    "                for seq in seq_list:\n",
    "                    if kmer in seq.seq:\n",
    "                        counter += 1\n",
    "                all_kmer_matrix.loc[kmer, column] = counter/len(seq_list)\n",
    "    else:\n",
    "        all_kmer_matrix[\"M_freq\"] = (all_kmer_matrix.loc[:, M_sample_idx]>0).mean(axis=1)\n",
    "        all_kmer_matrix[\"nonM_freq\"] = (all_kmer_matrix.loc[:, nonM_sample_idx]>0).mean(axis=1)\n",
    "        \n",
    "    all_kmer_matrix[\"M_avg\"] = all_kmer_matrix.loc[:, M_sample_idx].mean(axis=1)\n",
    "    all_kmer_matrix[\"nonM_avg\"] = all_kmer_matrix.loc[:, nonM_sample_idx].mean(axis=1)\n",
    "\n",
    "    if 0 in all_kmer_matrix.index:\n",
    "        all_kmer_matrix = all_kmer_matrix.drop(0)\n",
    "    print(f\"Done generating count matrix of all {k}-mers.\")\n",
    "\n",
    "    common_kmer_matrix = portek.filter_kmers(\n",
    "        all_kmer_matrix, freq_cols=FREQ_COLS, cons_thr=c\n",
    "    )\n",
    "    print(f\"Done filerting out rare {k}-mers.\")\n",
    "\n",
    "    mean_count = common_kmer_matrix.drop(FREQ_COLS, axis=1).drop(AVG_COLS, axis=1).mean(axis=None)\n",
    "    common_kmer_matrix[[\"M_avg_norm\", \"nonM_avg_norm\"]] = (\n",
    "        common_kmer_matrix[AVG_COLS] / mean_count\n",
    "    )\n",
    "    common_kmer_matrix[\"M_nonM_err_norm\"] = (\n",
    "        common_kmer_matrix[\"M_avg_norm\"] - common_kmer_matrix[\"nonM_avg_norm\"]\n",
    "    )\n",
    "    common_kmer_matrix[\"M_RMSE_norm\"] = np.sqrt(\n",
    "        (common_kmer_matrix[\"M_nonM_err_norm\"]) ** 2\n",
    "    )\n",
    "    print(f\"Found {len(common_kmer_matrix)} common and {len(all_kmer_matrix)-len(common_kmer_matrix)} rare {k} mers.\")\n",
    "    specificity = common_kmer_matrix[\"M_RMSE_norm\"].quantile(q=0.99)\n",
    "    efficiency = len(common_kmer_matrix) / len(all_kmer_matrix)\n",
    "    k_dict[k] = (specificity, efficiency)\n",
    "\n",
    "    del all_kmer_matrix, common_kmer_matrix\n",
    "    print(f\"Done calculating specificty ({specificity}) and efficiency ({efficiency}) of {k}-mers.\")"
   ]
  },
  {
   "cell_type": "markdown",
   "metadata": {},
   "source": [
    "4. Plot specificity and efficiency"
   ]
  },
  {
   "cell_type": "code",
   "execution_count": null,
   "metadata": {},
   "outputs": [
    {
     "data": {
      "image/png": "[encoded data removed]",
      "text/plain": [
       "<Figure size 640x480 with 1 Axes>"
      ]
     },
     "metadata": {},
     "output_type": "display_data"
    }
   ],
   "source": [
    "fig, ax = plt.subplots()\n",
    "ax.set_title(\"Specificity vs k-mer length\")\n",
    "ax.set_xlabel(\"k-mer length\")\n",
    "ax.set_xticks(range(5,27,2))\n",
    "ax.set_ylabel(\"k-mer specificity\")\n",
    "sns.scatterplot(x=k_list, y=[val[0] for val in k_dict.values()])\n",
    "plt.show()"
   ]
  },
  {
   "cell_type": "code",
   "execution_count": null,
   "metadata": {},
   "outputs": [
    {
     "data": {
      "image/png": "[encoded data removed]",
      "text/plain": [
       "<Figure size 640x480 with 1 Axes>"
      ]
     },
     "metadata": {},
     "output_type": "display_data"
    }
   ],
   "source": [
    "fig, ax = plt.subplots()\n",
    "ax.set_title(\"Efficiency vs k-mer length\")\n",
    "ax.set_xlabel(\"k-mer length\")\n",
    "ax.set_xticks(range(5,27,2))\n",
    "ax.set_ylabel(\"k-mer efficiency\")\n",
    "ax.set_ylim(0,1)\n",
    "sns.scatterplot(x=k_list, y=[val[1] for val in k_dict.values()])\n",
    "plt.show()"
   ]
  }
 ],
 "metadata": {
  "kernelspec": {
   "display_name": "env",
   "language": "python",
   "name": "python3"
  },
  "language_info": {
   "codemirror_mode": {
    "name": "ipython",
    "version": 3
   },
   "file_extension": ".py",
   "mimetype": "text/x-python",
   "name": "python",
   "nbconvert_exporter": "python",
   "pygments_lexer": "ipython3",
   "version": "3.11.9"
  }
 },
 "nbformat": 4,
 "nbformat_minor": 2
}
