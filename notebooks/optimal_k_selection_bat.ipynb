{
 "cells": [
  {
   "cell_type": "markdown",
   "metadata": {},
   "source": [
    "This notebook descrbies the selection of optimal k-mer length for the \"bat\" data sets for use in PORT-EK pipeline analysis.\n",
    "To use it you will need the k-mer indices generated with PORTEKfind.py in the output/bat/[k]mer_indices directories, where [k] denotes the tested k-mer length value. \n",
    "To generate the indices as in the paper, you will need to run PORTEKfind.py on the appropriate data sets, previously downloaded in .fasta files, using the following commands from the main PORT-EK directory (the output directories must already exist):\n",
    " - python PORTEKfind.py input/bat/bat.fasta output/bat/[k]mer_indices/ --k [k] --group bat\n",
    " - python PORTEKfind.py input/bat/EPI_SET_240422qm.fasta output/bat/[k]mer_indices/ --k [k] --group hum\n",
    "\n",
    " substituting [k] for the tested k-mer lengths. To replicate the reuslts in the paper, you need to test k values of 5,7,9,11,15,19 and 25 for all sequences.  \n",
    "\n",
    "You can also run generate_deer_kmers.sh scrpit which will automatically run PORTEKfind for all the options above, this is recommended only if your machine have at least 14 free CPUs."
   ]
  },
  {
   "cell_type": "markdown",
   "metadata": {},
   "source": [
    "1. Import necessary libraries and PORT-EK source code:"
   ]
  },
  {
   "cell_type": "code",
   "execution_count": 25,
   "metadata": {},
   "outputs": [],
   "source": [
    "import sys\n",
    "import pickle\n",
    "import pathlib\n",
    "import numpy as np\n",
    "import pandas as pd\n",
    "import matplotlib.pyplot as plt\n",
    "import seaborn as sns\n",
    "from Bio import SeqIO\n",
    "#adding portek source directory to sys path before importing\n",
    "portek_path = \"../portek\"\n",
    "sys.path.insert(0,portek_path)\n",
    "import portek\n",
    "\n",
    "pd.options.mode.copy_on_write = True"
   ]
  },
  {
   "cell_type": "markdown",
   "metadata": {},
   "source": [
    "2. Declare data set specific definitions and functions, and a list of k-mer lengths to be tested."
   ]
  },
  {
   "cell_type": "code",
   "execution_count": 26,
   "metadata": {},
   "outputs": [],
   "source": [
    "# PORT-EK parameters\n",
    "k_list = [5,7,9,11,13,15,17,19,25]  # This is the length of k-mers\n",
    "\n",
    "# Relative path to k-mer indices\n",
    "INPUT_PATH = \"../output/bat/\"\n",
    "\n",
    "# Data set specific definitions of k-mer type, column names, reference gene and protein mapping, and colors for plots.\n",
    "SAMPLE_GROUPS = [\"bat\", \"hum\"]\n",
    "\n",
    "FREQ_COLS = [f\"{group}_freq\" for group in SAMPLE_GROUPS]\n",
    "AVG_COLS = [f\"{group}_avg\" for group in SAMPLE_GROUPS]\n"
   ]
  },
  {
   "cell_type": "markdown",
   "metadata": {},
   "source": [
    "3. Calculate k-mer specificity and efficiency for tested lengths. For definitions and discussion see [reference to our paper]"
   ]
  },
  {
   "cell_type": "code",
   "execution_count": 42,
   "metadata": {},
   "outputs": [
    {
     "name": "stdout",
     "output_type": "stream",
     "text": [
      "Calculating specificity and efficiency of 5-mers.\n",
      "Done calculating specificty (0.18307487299910938), efficiency (1023) of 5-mers. The resulting data frame takes up 2.39 MB.\n",
      "Calculating specificity and efficiency of 7-mers.\n",
      "Done calculating specificty (0.5121318075145777), efficiency (16380) of 7-mers. The resulting data frame takes up 38.37 MB.\n",
      "Calculating specificity and efficiency of 9-mers.\n",
      "Done calculating specificty (1.3426573779323439), efficiency (227512) of 9-mers. The resulting data frame takes up 533.32 MB.\n",
      "Calculating specificity and efficiency of 11-mers.\n",
      "Done calculating specificty (1.6883577901114994), efficiency (909825) of 11-mers. The resulting data frame takes up 2134.48 MB.\n",
      "Calculating specificity and efficiency of 13-mers.\n",
      "Done calculating specificty (1.7712097050425841), efficiency (1275661) of 13-mers. The resulting data frame takes up 2995.18 MB.\n",
      "Calculating specificity and efficiency of 15-mers.\n",
      "Done calculating specificty (1.814827550985518), efficiency (1442010) of 15-mers. The resulting data frame takes up 3388.51 MB.\n",
      "Calculating specificity and efficiency of 17-mers.\n",
      "Done calculating specificty (1.8427682515690342), efficiency (1568857) of 17-mers. The resulting data frame takes up 3689.58 MB.\n",
      "Calculating specificity and efficiency of 19-mers.\n",
      "Done calculating specificty (1.8649515102892578), efficiency (1683680) of 19-mers. The resulting data frame takes up 3962.82 MB.\n",
      "Calculating specificity and efficiency of 25-mers.\n",
      "Done calculating specificty (1.9069150957810395), efficiency (1978566) of 25-mers. The resulting data frame takes up 4668.21 MB.\n"
     ]
    }
   ],
   "source": [
    "specificities = []\n",
    "kmer_numbers = []\n",
    "mem_size = []\n",
    "for k in k_list:\n",
    "    print(f\"Calculating specificity and efficiency of {k}-mers.\")\n",
    "\n",
    "    kmer_set = set()\n",
    "    sample_list = []\n",
    "    kmer_set_in_path = pathlib.Path(INPUT_PATH).glob(f\"*_{k}mer_set.pkl\")\n",
    "    sample_list_in_path = pathlib.Path(INPUT_PATH).glob(\"*sample_list.pkl\")\n",
    "\n",
    "    for filename in kmer_set_in_path:\n",
    "        with open(filename, mode=\"rb\") as in_file:\n",
    "            partial_set = pickle.load(in_file)\n",
    "        kmer_set.update(partial_set)\n",
    "\n",
    "    for filename in sample_list_in_path:\n",
    "        with open(filename, mode=\"rb\") as in_file:\n",
    "            partial_list = pickle.load(in_file)\n",
    "        group = filename.stem.split(\"_\")[0]\n",
    "        partial_list = [f\"{group}_{sample_name}\" for sample_name in partial_list]\n",
    "        sample_list.extend(partial_list)\n",
    "\n",
    "    all_kmer_matrix = pd.DataFrame(\n",
    "        0, index=list(kmer_set), columns=sample_list, dtype=\"uint8\"\n",
    "    )\n",
    "    group_sample_idx = {\n",
    "        f\"{group}\": [\n",
    "            sample for sample in sample_list if sample.split(\"_\")[0] == f\"{group}\"\n",
    "        ]\n",
    "        for group in SAMPLE_GROUPS\n",
    "    }\n",
    "\n",
    "    in_path = pathlib.Path(f\"{INPUT_PATH}/{k}mer_indices\").glob(\"*_count.pkl\")\n",
    "\n",
    "    for filename in in_path:\n",
    "        with open(filename, mode=\"rb\") as in_file:\n",
    "            temp_dict = pickle.load(in_file)\n",
    "        sample_name = \"_\".join(filename.stem.split(\"_\")[:-1])\n",
    "        count_dict = {f\"{sample_name}\": temp_dict.values()}\n",
    "        temp_df = pd.DataFrame(count_dict, index=temp_dict.keys(), dtype=\"uint8\")\n",
    "        all_kmer_matrix.update(temp_df)\n",
    "\n",
    "    all_kmer_matrix.index = all_kmer_matrix.index.map(\n",
    "        lambda kmer: portek.decode_kmer(kmer, k)\n",
    "    )\n",
    "\n",
    "    for group in SAMPLE_GROUPS:\n",
    "        all_kmer_matrix[f\"{group}_freq\"] = (\n",
    "            all_kmer_matrix.loc[:, group_sample_idx[group]] > 0\n",
    "        ).mean(axis=1)\n",
    "        all_kmer_matrix[f\"{group}_avg\"] = all_kmer_matrix.loc[\n",
    "            :, group_sample_idx[group]\n",
    "        ].mean(axis=1)\n",
    "\n",
    "    all_kmer_matrix\n",
    "    if k * \"A\" in all_kmer_matrix.index:\n",
    "        all_kmer_matrix = all_kmer_matrix.drop(k * \"A\")\n",
    "\n",
    "    mean_count = all_kmer_matrix.loc[:, sample_list].mean(axis=None)\n",
    "\n",
    "    all_kmer_matrix[\"bat_hum_err\"] = (\n",
    "        all_kmer_matrix[\"bat_avg\"] - all_kmer_matrix[\"hum_avg\"]\n",
    "    )\n",
    "    all_kmer_matrix[\"bat_RMSE_norm\"] = (\n",
    "        np.sqrt((all_kmer_matrix[\"bat_hum_err\"]) ** 2) / mean_count\n",
    "    )\n",
    "\n",
    "    specificity = all_kmer_matrix[\"bat_RMSE_norm\"].mean()\n",
    "    n_kmers = len(all_kmer_matrix)\n",
    "    df_mem = all_kmer_matrix.memory_usage(index=True, deep=True).sum()\n",
    "    specificities.append(specificity)\n",
    "    kmer_numbers.append(n_kmers)\n",
    "    mem_size.append(df_mem)\n",
    "    del all_kmer_matrix\n",
    "    print(\n",
    "        f\"Done calculating specificty ({specificity}), efficiency ({n_kmers}) of {k}-mers. The resulting data frame takes up {round(df_mem/1024/1024, 2)} MB.\"\n",
    "    )"
   ]
  },
  {
   "cell_type": "code",
   "execution_count": 43,
   "metadata": {},
   "outputs": [
    {
     "name": "stdout",
     "output_type": "stream",
     "text": [
      "{5: 0.018310068232665115, 7: 0.08224249474198084, 9: 0.21879339014096627, 11: 0.17288076831723093, 13: 0.16992336368406247, 15: 0.24665680125695744, 17: 0.22971374660909805, 19: 0.21768758019763562, 25: 0.18022713306469346}\n",
      "15\n"
     ]
    },
    {
     "data": {
      "image/png": "[encoded data removed]",
      "text/plain": [
       "<Figure size 640x480 with 1 Axes>"
      ]
     },
     "metadata": {},
     "output_type": "display_data"
    }
   ],
   "source": [
    "log_kmer_numbers = np.log2(kmer_numbers)\n",
    "sns.scatterplot(x=log_kmer_numbers, y=specificities)\n",
    "slope = {}\n",
    "slope[k_list[0]] = specificities[0]/log_kmer_numbers[0]\n",
    "for i in range(1,len(specificities)):\n",
    "    slope[k_list[i]] = (specificities[i]-specificities[i-1])/(log_kmer_numbers[i]-log_kmer_numbers[i-1])\n",
    "\n",
    "print(slope)\n",
    "\n",
    "best = max(slope, key=slope.get)\n",
    "print(best)"
   ]
  }
 ],
 "metadata": {
  "kernelspec": {
   "display_name": "env",
   "language": "python",
   "name": "python3"
  },
  "language_info": {
   "codemirror_mode": {
    "name": "ipython",
    "version": 3
   },
   "file_extension": ".py",
   "mimetype": "text/x-python",
   "name": "python",
   "nbconvert_exporter": "python",
   "pygments_lexer": "ipython3",
   "version": "3.11.10"
  }
 },
 "nbformat": 4,
 "nbformat_minor": 2
}
